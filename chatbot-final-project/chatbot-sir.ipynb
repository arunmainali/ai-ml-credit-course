{
 "cells": [
  {
   "cell_type": "code",
   "execution_count": 1,
   "id": "77b857d1-f3f1-40cb-8d5a-ff918c2bb3cc",
   "metadata": {},
   "outputs": [
    {
     "name": "stderr",
     "output_type": "stream",
     "text": [
      "/Users/arunmainali/Library/Python/3.9/lib/python/site-packages/urllib3/__init__.py:35: NotOpenSSLWarning: urllib3 v2 only supports OpenSSL 1.1.1+, currently the 'ssl' module is compiled with 'LibreSSL 2.8.3'. See: https://github.com/urllib3/urllib3/issues/3020\n",
      "  warnings.warn(\n"
     ]
    },
    {
     "name": "stdout",
     "output_type": "stream",
     "text": [
      "WARNING:tensorflow:From /Users/arunmainali/Library/Python/3.9/lib/python/site-packages/tensorflow/python/compat/v2_compat.py:98: disable_resource_variables (from tensorflow.python.ops.resource_variables_toggle) is deprecated and will be removed in a future version.\n",
      "Instructions for updating:\n",
      "non-resource variables are not supported in the long term\n"
     ]
    }
   ],
   "source": [
    "import nltk\n",
    "from nltk.stem.lancaster import LancasterStemmer\n",
    "stemmer = LancasterStemmer()\n",
    "import numpy\n",
    "import tensorflow\n",
    "import tflearn\n",
    "import json\n",
    "import pickle"
   ]
  },
  {
   "cell_type": "code",
   "execution_count": 2,
   "id": "80439a49-af64-4f98-bce1-f8bc6d48de55",
   "metadata": {},
   "outputs": [],
   "source": [
    "with open('intents.json') as file:\n",
    "    data = json.load(file)"
   ]
  },
  {
   "cell_type": "code",
   "execution_count": 3,
   "id": "3513239a-e179-4a2f-8612-8cc68f4ca0f5",
   "metadata": {},
   "outputs": [],
   "source": [
    "try: \n",
    "    with open('data.pickle', 'rb') as f:\n",
    "        words, labels, training, output = pickle.load(f)\n",
    "except:\n",
    "    words = []\n",
    "    labels = []\n",
    "    docs_x = []\n",
    "    docs_y = []\n",
    "\n",
    "    for intent in data['intents']:\n",
    "        for pattern in intent['patterns']:\n",
    "            # print(pattern)\n",
    "            wrds = nltk.word_tokenize(pattern)\n",
    "            # print(wrds)\n",
    "            words.extend(wrds)\n",
    "            docs_x.append(wrds)\n",
    "            docs_y.append(intent['tag'])\n",
    "\n",
    "        if intent['tag'] not in labels:\n",
    "            labels.append(intent['tag'])\n",
    "    words = [stemmer.stem(w.lower()) for w in words if w!='?']\n",
    "    words = sorted(list(set(words)))\n",
    "    labels = sorted(labels)\n",
    "\n",
    "    training = []\n",
    "    output = []\n",
    "    out_empty = [0 for _ in range(len(labels))]\n",
    "\n",
    "    for x, doc in enumerate(docs_x):\n",
    "        bag = []\n",
    "        wrds = [stemmer.stem(w) for w in doc]\n",
    "        for w in words:\n",
    "            if w in wrds:\n",
    "                bag.append(1)\n",
    "            else:\n",
    "                bag.append(0)\n",
    "\n",
    "        output_row = out_empty[:]\n",
    "        output_row[labels.index(docs_y[x])] = 1\n",
    "\n",
    "        training.append(bag)\n",
    "        output.append(output_row)\n",
    "\n",
    "training = numpy.array(training)\n",
    "output = numpy.array(output)"
   ]
  },
  {
   "cell_type": "code",
   "execution_count": 4,
   "id": "cd610138-db4d-4ecc-8260-924044ff9b1b",
   "metadata": {},
   "outputs": [],
   "source": [
    "with open('data.pickle', 'wb') as f:\n",
    "    pickle.dump((words, labels, training, output), f)"
   ]
  },
  {
   "cell_type": "code",
   "execution_count": 5,
   "id": "4378da23-62ea-4dd8-828d-e72d98fd8a3c",
   "metadata": {},
   "outputs": [
    {
     "name": "stdout",
     "output_type": "stream",
     "text": [
      "WARNING:tensorflow:From /Users/arunmainali/Library/Python/3.9/lib/python/site-packages/tflearn/initializations.py:164: calling TruncatedNormal.__init__ (from tensorflow.python.ops.init_ops) with dtype is deprecated and will be removed in a future version.\n",
      "Instructions for updating:\n",
      "Call initializer instance with the dtype argument instead of passing it to the constructor\n"
     ]
    }
   ],
   "source": [
    "tensorflow.compat.v1.reset_default_graph()\n",
    "net = tflearn.input_data(shape = [None, len(training[0])])\n",
    "net = tflearn.fully_connected(net, 12)\n",
    "net = tflearn.fully_connected(net, 12)\n",
    "net = tflearn.fully_connected(net, len(output[0]), activation = 'softmax')\n",
    "net = tflearn.regression(net)"
   ]
  },
  {
   "cell_type": "code",
   "execution_count": 6,
   "id": "b9191694-f6b6-4902-8bdd-f830325a5dfd",
   "metadata": {},
   "outputs": [
    {
     "name": "stdout",
     "output_type": "stream",
     "text": [
      "Training Step: 19799  | total loss: \u001b[1m\u001b[32m0.03743\u001b[0m\u001b[0m | time: 0.006s\n",
      "| Adam | epoch: 1800 | loss: 0.03743 - acc: 0.9990 -- iter: 120/127\n",
      "Training Step: 19800  | total loss: \u001b[1m\u001b[32m0.03590\u001b[0m\u001b[0m | time: 0.006s\n",
      "| Adam | epoch: 1800 | loss: 0.03590 - acc: 0.9991 -- iter: 127/127\n",
      "--\n"
     ]
    }
   ],
   "source": [
    "model = tflearn.DNN(net)\n",
    "model.fit(training, output, n_epoch = 1800, batch_size =12, show_metric = True)"
   ]
  },
  {
   "cell_type": "code",
   "execution_count": 9,
   "id": "3b630517-d7a4-4928-9806-716afd383383",
   "metadata": {},
   "outputs": [],
   "source": [
    "def bag_of_words(s, words):\n",
    "    bag = [0 for _ in range(len(words))]\n",
    "    s_words = nltk.word_tokenize(s)\n",
    "    s_words = [stemmer.stem(word.lower()) for word in s_words]\n",
    "\n",
    "    for se in s_words: \n",
    "        for i, w in enumerate(words):\n",
    "            if w == se:\n",
    "                 bag[i] = 1\n",
    "    return numpy.array(bag)"
   ]
  },
  {
   "cell_type": "code",
   "execution_count": null,
   "id": "5afeda56-949f-409d-ada2-f44b09959638",
   "metadata": {},
   "outputs": [
    {
     "name": "stdout",
     "output_type": "stream",
     "text": [
      "Start talking with BOT of Texas College(TexasAIChatBOT)\n"
     ]
    },
    {
     "name": "stdin",
     "output_type": "stream",
     "text": [
      "You: hello\n"
     ]
    },
    {
     "name": "stdout",
     "output_type": "stream",
     "text": [
      "\n",
      "Hey\n",
      "\n",
      "\n"
     ]
    },
    {
     "name": "stdin",
     "output_type": "stream",
     "text": [
      "You: who are you\n"
     ]
    },
    {
     "name": "stdout",
     "output_type": "stream",
     "text": [
      "\n",
      "I am the interactive agent of Texas College\n",
      "\n",
      "\n"
     ]
    }
   ],
   "source": [
    "import random\n",
    "def chat():\n",
    "    print('Start talking with BOT of Texas College(TexasAIChatBOT)')\n",
    "    while True:\n",
    "        inp = input('You:')\n",
    "        print('')\n",
    "        if inp.lower() == 'quit':\n",
    "            break\n",
    "        results = model.predict([bag_of_words(inp, words)])[0]\n",
    "        results_index = numpy.argmax(results)\n",
    "        tag = labels[results_index]\n",
    "        # print(tag)\n",
    "        # print(results)\n",
    "\n",
    "        if results[results_index] > 0.4:\n",
    "            for tg in data['intents']:\n",
    "                if tg['tag'] == tag:\n",
    "                    responses = tg['responses']\n",
    "            print(random.choice(responses))\n",
    "            print('')\n",
    "            print('')\n",
    "        else:\n",
    "            print('I dont understand your question, try again')\n",
    "            print('')\n",
    "chat()"
   ]
  },
  {
   "cell_type": "code",
   "execution_count": null,
   "id": "09283674-942d-4f27-bb1a-b7cfb72e7aba",
   "metadata": {},
   "outputs": [],
   "source": [
    "!pip3 install gradio == 4.44.1      #gradio provies the server for free, or helps to generate the public url "
   ]
  },
  {
   "cell_type": "code",
   "execution_count": null,
   "id": "88805b2f-e6b7-4000-b9b6-1cdee18af16c",
   "metadata": {},
   "outputs": [],
   "source": [
    "import gradio\n",
    "def find_sq(inp):\n",
    "    return int(inp)**2\n",
    "demo = gradio.Interface(fn = find_sq, inputs = 'text', outputs = 'text')\n",
    "demo.launch(share = True)"
   ]
  },
  {
   "cell_type": "code",
   "execution_count": null,
   "id": "106cac21-2a6a-4a55-bf28-7e36268bab82",
   "metadata": {},
   "outputs": [],
   "source": [
    "import gradio\n",
    "def chat(Chatbot_by_Rojan_Upreti):\n",
    "\n",
    "    results = model.predict([bag_of_words(Chatbot_by_Rojan_Upreti, words)])[0]\n",
    "    results_index = numpy.argmax(results)\n",
    "    tag = labels[results_index]\n",
    "\n",
    "    if results[results_index] > 0.4:\n",
    "        for tg in data['intents']:\n",
    "            if tg['tag'] == tag:\n",
    "                responses = tg['responses']\n",
    "        return random.choice(responses)\n",
    "\n",
    "    else:\n",
    "        return 'I dont understand your question, try again'\n",
    "\n",
    "demo = gradio.Interface(fn = chat, inputs  = 'text', outputs = 'text')\n",
    "demo.launch(share = True)"
   ]
  },
  {
   "cell_type": "code",
   "execution_count": null,
   "id": "0ea6b9f2-d730-406f-b2dc-fc345f31dcf8",
   "metadata": {},
   "outputs": [],
   "source": [
    "def find_sq(inp):\n",
    "    return inp**2\n",
    "find_sq(4)"
   ]
  },
  {
   "cell_type": "code",
   "execution_count": null,
   "id": "56cb43aa-4d63-4083-98dc-b14d9a14a4dc",
   "metadata": {},
   "outputs": [],
   "source": [
    "def greet(name):\n",
    "    return \"Hello \" + name\n",
    "print(greet(\"ram\"))"
   ]
  },
  {
   "cell_type": "code",
   "execution_count": null,
   "id": "6f047545-2d75-4b2e-8dce-b52af0e5a59c",
   "metadata": {},
   "outputs": [],
   "source": [
    "import gradio as gr\n",
    "\n",
    "def greet(name):\n",
    "    return \"Hello \" + name\n",
    "\n",
    "demo = gr.Interface(fn=greet, inputs=\"textbox\", outputs=\"textbox\")\n",
    "    \n",
    "demo.launch(share=True)"
   ]
  },
  {
   "cell_type": "code",
   "execution_count": null,
   "id": "8ba28dfd-adda-409c-a728-5e14471fc173",
   "metadata": {},
   "outputs": [],
   "source": []
  }
 ],
 "metadata": {
  "kernelspec": {
   "display_name": "Python 3 (ipykernel)",
   "language": "python",
   "name": "python3"
  },
  "language_info": {
   "codemirror_mode": {
    "name": "ipython",
    "version": 3
   },
   "file_extension": ".py",
   "mimetype": "text/x-python",
   "name": "python",
   "nbconvert_exporter": "python",
   "pygments_lexer": "ipython3",
   "version": "3.9.6"
  }
 },
 "nbformat": 4,
 "nbformat_minor": 5
}
