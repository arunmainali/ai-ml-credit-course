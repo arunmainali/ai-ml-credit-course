{
 "cells": [
  {
   "cell_type": "code",
   "execution_count": 43,
   "id": "20db2087-6328-4d0f-85c0-137e7fa09338",
   "metadata": {},
   "outputs": [],
   "source": [
    "import nltk\n",
    "# nltk.download('punkt_tab')\n",
    "# nltk.download('stopwords')"
   ]
  },
  {
   "cell_type": "code",
   "execution_count": 44,
   "id": "1d8ce3ec-adae-4a13-8c97-05beffc5ab3b",
   "metadata": {},
   "outputs": [
    {
     "data": {
      "text/plain": [
       "['I', 'want', 'to', 'tokenize', 'this', 'sentence']"
      ]
     },
     "execution_count": 44,
     "metadata": {},
     "output_type": "execute_result"
    }
   ],
   "source": [
    "from nltk.tokenize import word_tokenize, sent_tokenize\n",
    "example_word = 'I want to tokenize this sentence'\n",
    "word_token = word_tokenize(example_word)\n",
    "word_token"
   ]
  },
  {
   "cell_type": "markdown",
   "id": "5d8de145-6258-4d2b-9432-bfb4f0e0cbe7",
   "metadata": {},
   "source": [
    "Tokenize v. Slit\n",
    "Tokenize has built-in tokens which it uses to tokenize"
   ]
  },
  {
   "cell_type": "code",
   "execution_count": 45,
   "id": "c0198b70-51f3-4ad4-8b4d-fb59e760b075",
   "metadata": {},
   "outputs": [
    {
     "data": {
      "text/plain": [
       "['I', 'want', 'to', 'tokenize', 'this', 'sentence']"
      ]
     },
     "execution_count": 45,
     "metadata": {},
     "output_type": "execute_result"
    }
   ],
   "source": [
    "'I want to tokenize this sentence'.split()"
   ]
  },
  {
   "cell_type": "code",
   "execution_count": 46,
   "id": "7dedc997-6431-4a9f-bd93-89fd52ba1b38",
   "metadata": {},
   "outputs": [
    {
     "data": {
      "text/plain": [
       "['Hello Guys!', 'We are learning Data Science.', 'With Python']"
      ]
     },
     "execution_count": 46,
     "metadata": {},
     "output_type": "execute_result"
    }
   ],
   "source": [
    "example_sentence = 'Hello Guys! We are learning Data Science. With Python'\n",
    "sent_token = sent_tokenize(example_sentence)\n",
    "sent_token"
   ]
  },
  {
   "cell_type": "markdown",
   "id": "223e4f01-42fe-48ba-b7d6-66669fffa72b",
   "metadata": {},
   "source": [
    "## Stopwords (Removes unncesecassy words)"
   ]
  },
  {
   "cell_type": "code",
   "execution_count": 47,
   "id": "918f02e1-93a9-42f4-ace5-d7d123f74077",
   "metadata": {},
   "outputs": [
    {
     "name": "stdout",
     "output_type": "stream",
     "text": [
      "['An', 'apple', 'day', 'keeps', 'doctor', 'away']\n"
     ]
    }
   ],
   "source": [
    "from nltk.corpus import stopwords\n",
    "stopwords = set(stopwords.words('english'))\n",
    "example = 'An apple a day keeps the doctor away'\n",
    "words = word_tokenize(example)\n",
    "filter_sentence = []\n",
    "for w in words:\n",
    "    if w not in stopwords:\n",
    "        filter_sentence.append(w)\n",
    "print(filter_sentence)"
   ]
  },
  {
   "cell_type": "markdown",
   "id": "2461ef27-6538-487c-8ad3-6184ded0a14b",
   "metadata": {},
   "source": [
    "## Stemmer: Removes prefix/suffix"
   ]
  },
  {
   "cell_type": "code",
   "execution_count": 48,
   "id": "772717d0-14f3-4413-af1c-5d5082162824",
   "metadata": {},
   "outputs": [
    {
     "name": "stdout",
     "output_type": "stream",
     "text": [
      "play\n",
      "ludo\n",
      "is\n",
      "a\n",
      "funni\n",
      "activ\n"
     ]
    }
   ],
   "source": [
    "from nltk.stem import PorterStemmer\n",
    "ps = PorterStemmer()\n",
    "example_text = 'Playing ludo is a funny activity'\n",
    "words = word_tokenize(example_text)\n",
    "for w in words:\n",
    "    print(ps.stem(w))"
   ]
  },
  {
   "cell_type": "code",
   "execution_count": 49,
   "id": "e84eaaa8-07fa-4b05-a493-2fcaaf87f0ab",
   "metadata": {},
   "outputs": [
    {
     "name": "stdout",
     "output_type": "stream",
     "text": [
      "play\n",
      "ludo\n",
      "is\n",
      "a\n",
      "funny\n",
      "act\n"
     ]
    }
   ],
   "source": [
    "from nltk.stem import LancasterStemmer\n",
    "ls = LancasterStemmer()\n",
    "example_text = 'Playing ludo is a funny activity'\n",
    "words = word_tokenize(example_text)\n",
    "for w in words:\n",
    "    print(ls.stem(w))"
   ]
  },
  {
   "cell_type": "code",
   "execution_count": null,
   "id": "9b6f9d6a-c38a-45fa-b6f7-ab6be86e03a5",
   "metadata": {},
   "outputs": [],
   "source": []
  }
 ],
 "metadata": {
  "kernelspec": {
   "display_name": "Python 3 (ipykernel)",
   "language": "python",
   "name": "python3"
  },
  "language_info": {
   "codemirror_mode": {
    "name": "ipython",
    "version": 3
   },
   "file_extension": ".py",
   "mimetype": "text/x-python",
   "name": "python",
   "nbconvert_exporter": "python",
   "pygments_lexer": "ipython3",
   "version": "3.9.6"
  }
 },
 "nbformat": 4,
 "nbformat_minor": 5
}
