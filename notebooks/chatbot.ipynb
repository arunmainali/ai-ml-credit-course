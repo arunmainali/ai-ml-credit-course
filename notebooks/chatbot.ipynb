{
 "cells": [
  {
   "cell_type": "code",
   "execution_count": 33,
   "id": "20db2087-6328-4d0f-85c0-137e7fa09338",
   "metadata": {},
   "outputs": [],
   "source": [
    "import nltk\n",
    "# nltk.download('punkt_tab')\n",
    "# nltk.download('stopwords')"
   ]
  },
  {
   "cell_type": "code",
   "execution_count": 34,
   "id": "1d8ce3ec-adae-4a13-8c97-05beffc5ab3b",
   "metadata": {},
   "outputs": [
    {
     "data": {
      "text/plain": [
       "['I', 'want', 'to', 'tokenize', 'this', 'sentence']"
      ]
     },
     "execution_count": 34,
     "metadata": {},
     "output_type": "execute_result"
    }
   ],
   "source": [
    "from nltk.tokenize import word_tokenize, sent_tokenize\n",
    "example_word = 'I want to tokenize this sentence'\n",
    "word_token = word_tokenize(example_word)\n",
    "word_token"
   ]
  },
  {
   "cell_type": "markdown",
   "id": "5d8de145-6258-4d2b-9432-bfb4f0e0cbe7",
   "metadata": {},
   "source": [
    "#### Tokenize v. Slit\n",
    "Tokenize has built-in tokens which it uses to tokenize"
   ]
  },
  {
   "cell_type": "code",
   "execution_count": 35,
   "id": "c0198b70-51f3-4ad4-8b4d-fb59e760b075",
   "metadata": {},
   "outputs": [
    {
     "data": {
      "text/plain": [
       "['I', 'want', 'to', 'tokenize', 'this', 'sentence']"
      ]
     },
     "execution_count": 35,
     "metadata": {},
     "output_type": "execute_result"
    }
   ],
   "source": [
    "'I want to tokenize this sentence'.split()"
   ]
  },
  {
   "cell_type": "code",
   "execution_count": 36,
   "id": "7dedc997-6431-4a9f-bd93-89fd52ba1b38",
   "metadata": {},
   "outputs": [
    {
     "data": {
      "text/plain": [
       "['Hello Guys!', 'We are learning Data Science.', 'With Python']"
      ]
     },
     "execution_count": 36,
     "metadata": {},
     "output_type": "execute_result"
    }
   ],
   "source": [
    "example_sentence = 'Hello Guys! We are learning Data Science. With Python'\n",
    "sent_token = sent_tokenize(example_sentence)\n",
    "sent_token"
   ]
  },
  {
   "cell_type": "code",
   "execution_count": 39,
   "id": "918f02e1-93a9-42f4-ace5-d7d123f74077",
   "metadata": {},
   "outputs": [
    {
     "name": "stdout",
     "output_type": "stream",
     "text": [
      "['An', 'apple', 'day', 'keeps', 'doctor', 'away']\n"
     ]
    }
   ],
   "source": [
    "# 2. Stopwords (Removes unncesecassy words)\n",
    "from nltk.corpus import stopwords\n",
    "stopwords = set(stopwords.words('english'))\n",
    "example = 'An apple a day keeps the doctor away'\n",
    "words = word_tokenize(example)\n",
    "filter_sentence = []\n",
    "for w in words:\n",
    "    if w not in stopwords:\n",
    "        filter_sentence.append(w)\n",
    "print(filter_sentence)"
   ]
  },
  {
   "cell_type": "code",
   "execution_count": null,
   "id": "772717d0-14f3-4413-af1c-5d5082162824",
   "metadata": {},
   "outputs": [],
   "source": []
  }
 ],
 "metadata": {
  "kernelspec": {
   "display_name": "Python 3 (ipykernel)",
   "language": "python",
   "name": "python3"
  },
  "language_info": {
   "codemirror_mode": {
    "name": "ipython",
    "version": 3
   },
   "file_extension": ".py",
   "mimetype": "text/x-python",
   "name": "python",
   "nbconvert_exporter": "python",
   "pygments_lexer": "ipython3",
   "version": "3.9.6"
  }
 },
 "nbformat": 4,
 "nbformat_minor": 5
}
