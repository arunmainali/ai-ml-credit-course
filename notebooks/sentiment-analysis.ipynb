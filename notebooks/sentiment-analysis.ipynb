{
 "cells": [
  {
   "cell_type": "markdown",
   "id": "50e14362-2bae-475a-a796-1bd8b9ecf922",
   "metadata": {},
   "source": [
    "# DNN IMDB Sentiment Analysis"
   ]
  },
  {
   "cell_type": "code",
   "execution_count": 3,
   "id": "eeca5a94-5fb0-4640-9380-c9dbcfcc9337",
   "metadata": {},
   "outputs": [
    {
     "name": "stderr",
     "output_type": "stream",
     "text": [
      "/Users/arunmainali/Library/Python/3.9/lib/python/site-packages/urllib3/__init__.py:35: NotOpenSSLWarning: urllib3 v2 only supports OpenSSL 1.1.1+, currently the 'ssl' module is compiled with 'LibreSSL 2.8.3'. See: https://github.com/urllib3/urllib3/issues/3020\n",
      "  warnings.warn(\n"
     ]
    }
   ],
   "source": [
    "import tensorflow as tf\n",
    "from tensorflow import keras\n",
    "import numpy as np"
   ]
  },
  {
   "cell_type": "code",
   "execution_count": 4,
   "id": "8ec0039a-d884-40df-a95f-5e295f972fd9",
   "metadata": {},
   "outputs": [],
   "source": [
    "data = keras.datasets.imdb"
   ]
  },
  {
   "cell_type": "code",
   "execution_count": 5,
   "id": "c86f756c-ad5b-4485-bf49-90f5c8bdc937",
   "metadata": {},
   "outputs": [],
   "source": [
    "(train_data, train_labels), (test_data, test_labels) = data.load_data(num_words = 88000)"
   ]
  },
  {
   "cell_type": "code",
   "execution_count": 24,
   "id": "c1b70195-9f18-47bc-a077-54e37e61d799",
   "metadata": {},
   "outputs": [],
   "source": [
    "# train_data[0]"
   ]
  },
  {
   "cell_type": "code",
   "execution_count": 7,
   "id": "2931951c-af84-414b-8b0a-0ae1cee64c1f",
   "metadata": {},
   "outputs": [
    {
     "name": "stdout",
     "output_type": "stream",
     "text": [
      "(25000,)\n",
      "218\n",
      "189\n",
      "153\n"
     ]
    }
   ],
   "source": [
    "print(train_data.shape)\n",
    "print(len(train_data[0]))\n",
    "print(len(train_data[1]))\n",
    "print(len(train_data[24999]))"
   ]
  },
  {
   "cell_type": "code",
   "execution_count": 25,
   "id": "3f168330-5ceb-4112-8639-366a082a4aa9",
   "metadata": {},
   "outputs": [],
   "source": [
    "word_index = data.get_word_index()\n",
    "# word_index"
   ]
  },
  {
   "cell_type": "code",
   "execution_count": 9,
   "id": "0f5495e6-995e-40aa-97df-e54792596384",
   "metadata": {},
   "outputs": [
    {
     "data": {
      "text/plain": [
       "11"
      ]
     },
     "execution_count": 9,
     "metadata": {},
     "output_type": "execute_result"
    }
   ],
   "source": [
    "word_index['this']"
   ]
  },
  {
   "cell_type": "code",
   "execution_count": 10,
   "id": "f1e3223c-8fdf-4c6e-af7c-e518d8f0dede",
   "metadata": {},
   "outputs": [
    {
     "data": {
      "text/plain": [
       "160"
      ]
     },
     "execution_count": 10,
     "metadata": {},
     "output_type": "execute_result"
    }
   ],
   "source": [
    "word_index['funny']"
   ]
  },
  {
   "cell_type": "code",
   "execution_count": 11,
   "id": "eb42be83-a850-4506-a549-2d4b8884a5df",
   "metadata": {},
   "outputs": [
    {
     "data": {
      "text/plain": [
       "3999"
      ]
     },
     "execution_count": 11,
     "metadata": {},
     "output_type": "execute_result"
    }
   ],
   "source": [
    "word_index['lol']"
   ]
  },
  {
   "cell_type": "code",
   "execution_count": 12,
   "id": "b8d2d261-c65b-433c-bbb0-03e69bf4edd7",
   "metadata": {},
   "outputs": [],
   "source": [
    "word_index[\"<PAD>\"] = 0"
   ]
  },
  {
   "cell_type": "code",
   "execution_count": 13,
   "id": "954a2f85-4368-435b-8bff-039d35e13a3d",
   "metadata": {},
   "outputs": [],
   "source": [
    "reverse_word_index = {value:key for key, value in word_index.items()}"
   ]
  },
  {
   "cell_type": "code",
   "execution_count": 26,
   "id": "a28c8679-f540-458b-8774-7b3f7a9354a2",
   "metadata": {
    "scrolled": true
   },
   "outputs": [],
   "source": [
    "# reverse_word_index"
   ]
  },
  {
   "cell_type": "code",
   "execution_count": 15,
   "id": "2ec48a4d-8f3f-43da-9f29-3cbe80788180",
   "metadata": {},
   "outputs": [
    {
     "data": {
      "text/plain": [
       "'the'"
      ]
     },
     "execution_count": 15,
     "metadata": {},
     "output_type": "execute_result"
    }
   ],
   "source": [
    "reverse_word_index[1]"
   ]
  },
  {
   "cell_type": "code",
   "execution_count": 16,
   "id": "11c70dab-7c34-471b-b855-03b3deb5afe1",
   "metadata": {},
   "outputs": [
    {
     "data": {
      "text/plain": [
       "'and'"
      ]
     },
     "execution_count": 16,
     "metadata": {},
     "output_type": "execute_result"
    }
   ],
   "source": [
    "reverse_word_index[2]"
   ]
  },
  {
   "cell_type": "code",
   "execution_count": 17,
   "id": "d50e586b-d575-4359-9e54-8f27eb8b5598",
   "metadata": {},
   "outputs": [
    {
     "data": {
      "text/plain": [
       "'<PAD>'"
      ]
     },
     "execution_count": 17,
     "metadata": {},
     "output_type": "execute_result"
    }
   ],
   "source": [
    "reverse_word_index[0]"
   ]
  },
  {
   "cell_type": "code",
   "execution_count": 27,
   "id": "a0087e18-8aa4-404f-a1c0-05be7650c8df",
   "metadata": {},
   "outputs": [],
   "source": [
    "train_data = keras.preprocessing.sequence.pad_sequences(train_data, value = 0, padding = 'post', maxlen = 250)\n",
    "test_data = keras.preprocessing.sequence.pad_sequences(test_data, value = 0, padding = 'post', maxlen = 250)"
   ]
  },
  {
   "cell_type": "code",
   "execution_count": 28,
   "id": "331f5c12-5bfb-46f7-989f-16fb3a5ccb8b",
   "metadata": {},
   "outputs": [
    {
     "data": {
      "text/plain": [
       "(25000, 250)"
      ]
     },
     "execution_count": 28,
     "metadata": {},
     "output_type": "execute_result"
    }
   ],
   "source": [
    "train_data.shape"
   ]
  },
  {
   "cell_type": "code",
   "execution_count": 30,
   "id": "923ded34-92fd-4393-980a-fe9a64f235fd",
   "metadata": {},
   "outputs": [],
   "source": [
    "model = keras.Sequential()\n",
    "model.add(keras.layers.Embedding(88000, 16))\n",
    "model.add(keras.layers.GlobalAveragePooling1D())\n",
    "model.add(keras.layers.Dense(16, activation = 'relu'))\n",
    "model.add(keras.layers.Dense(1, activation = 'sigmoid'))"
   ]
  },
  {
   "cell_type": "code",
   "execution_count": 31,
   "id": "c6d2da53-c580-4f64-a549-bfedf87c8610",
   "metadata": {},
   "outputs": [],
   "source": [
    "model.compile(optimizer = 'adam', loss = 'binary_crossentropy', metrics = ['accuracy'])"
   ]
  },
  {
   "cell_type": "code",
   "execution_count": 32,
   "id": "093e9e13-7b0b-493d-9f2a-3c948b28f34b",
   "metadata": {},
   "outputs": [
    {
     "name": "stdout",
     "output_type": "stream",
     "text": [
      "Epoch 1/10\n",
      "\u001b[1m49/49\u001b[0m \u001b[32m━━━━━━━━━━━━━━━━━━━━\u001b[0m\u001b[37m\u001b[0m \u001b[1m1s\u001b[0m 5ms/step - accuracy: 0.5398 - loss: 0.6916\n",
      "Epoch 2/10\n",
      "\u001b[1m49/49\u001b[0m \u001b[32m━━━━━━━━━━━━━━━━━━━━\u001b[0m\u001b[37m\u001b[0m \u001b[1m0s\u001b[0m 5ms/step - accuracy: 0.7218 - loss: 0.6755\n",
      "Epoch 3/10\n",
      "\u001b[1m49/49\u001b[0m \u001b[32m━━━━━━━━━━━━━━━━━━━━\u001b[0m\u001b[37m\u001b[0m \u001b[1m0s\u001b[0m 5ms/step - accuracy: 0.7662 - loss: 0.6197\n",
      "Epoch 4/10\n",
      "\u001b[1m49/49\u001b[0m \u001b[32m━━━━━━━━━━━━━━━━━━━━\u001b[0m\u001b[37m\u001b[0m \u001b[1m0s\u001b[0m 5ms/step - accuracy: 0.8024 - loss: 0.5328\n",
      "Epoch 5/10\n",
      "\u001b[1m49/49\u001b[0m \u001b[32m━━━━━━━━━━━━━━━━━━━━\u001b[0m\u001b[37m\u001b[0m \u001b[1m0s\u001b[0m 6ms/step - accuracy: 0.8390 - loss: 0.4459\n",
      "Epoch 6/10\n",
      "\u001b[1m49/49\u001b[0m \u001b[32m━━━━━━━━━━━━━━━━━━━━\u001b[0m\u001b[37m\u001b[0m \u001b[1m0s\u001b[0m 6ms/step - accuracy: 0.8642 - loss: 0.3799\n",
      "Epoch 7/10\n",
      "\u001b[1m49/49\u001b[0m \u001b[32m━━━━━━━━━━━━━━━━━━━━\u001b[0m\u001b[37m\u001b[0m \u001b[1m0s\u001b[0m 6ms/step - accuracy: 0.8724 - loss: 0.3361\n",
      "Epoch 8/10\n",
      "\u001b[1m49/49\u001b[0m \u001b[32m━━━━━━━━━━━━━━━━━━━━\u001b[0m\u001b[37m\u001b[0m \u001b[1m0s\u001b[0m 6ms/step - accuracy: 0.8908 - loss: 0.3005\n",
      "Epoch 9/10\n",
      "\u001b[1m49/49\u001b[0m \u001b[32m━━━━━━━━━━━━━━━━━━━━\u001b[0m\u001b[37m\u001b[0m \u001b[1m0s\u001b[0m 6ms/step - accuracy: 0.8996 - loss: 0.2738\n",
      "Epoch 10/10\n",
      "\u001b[1m49/49\u001b[0m \u001b[32m━━━━━━━━━━━━━━━━━━━━\u001b[0m\u001b[37m\u001b[0m \u001b[1m0s\u001b[0m 6ms/step - accuracy: 0.9077 - loss: 0.2499\n"
     ]
    },
    {
     "data": {
      "text/plain": [
       "<keras.src.callbacks.history.History at 0x30356b310>"
      ]
     },
     "execution_count": 32,
     "metadata": {},
     "output_type": "execute_result"
    }
   ],
   "source": [
    "model.fit(train_data, train_labels, epochs = 10, batch_size = 512)"
   ]
  },
  {
   "cell_type": "code",
   "execution_count": null,
   "id": "fb2dae9b-8986-47fb-a298-27e09f884a70",
   "metadata": {},
   "outputs": [],
   "source": []
  }
 ],
 "metadata": {
  "kernelspec": {
   "display_name": "Python 3 (ipykernel)",
   "language": "python",
   "name": "python3"
  },
  "language_info": {
   "codemirror_mode": {
    "name": "ipython",
    "version": 3
   },
   "file_extension": ".py",
   "mimetype": "text/x-python",
   "name": "python",
   "nbconvert_exporter": "python",
   "pygments_lexer": "ipython3",
   "version": "3.9.6"
  }
 },
 "nbformat": 4,
 "nbformat_minor": 5
}
